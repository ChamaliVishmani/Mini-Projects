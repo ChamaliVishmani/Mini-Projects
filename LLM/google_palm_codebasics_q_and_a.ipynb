{
 "cells": [
  {
   "cell_type": "code",
   "execution_count": 23,
   "id": "6a18f7d9",
   "metadata": {},
   "outputs": [
    {
     "name": "stdout",
     "output_type": "stream",
     "text": [
      "Package                      Version\n",
      "---------------------------- -----------\n",
      "aiohttp                      3.9.1\n",
      "aiosignal                    1.3.1\n",
      "altair                       4.2.2\n",
      "annotated-types              0.6.0\n",
      "asttokens                    2.2.1\n",
      "async-timeout                4.0.3\n",
      "attrs                        23.2.0\n",
      "backcall                     0.2.0\n",
      "blinker                      1.6.2\n",
      "cachetools                   5.3.0\n",
      "certifi                      2023.11.17\n",
      "charset-normalizer           3.1.0\n",
      "click                        8.1.7\n",
      "click-plugins                1.1.1\n",
      "cligj                        0.7.2\n",
      "colorama                     0.4.6\n",
      "comm                         0.1.4\n",
      "contourpy                    1.0.7\n",
      "cycler                       0.11.0\n",
      "dataclasses-json             0.5.14\n",
      "debugpy                      1.6.7.post1\n",
      "decorator                    5.1.1\n",
      "entrypoints                  0.4\n",
      "executing                    1.2.0\n",
      "faiss-cpu                    1.7.4\n",
      "Fiona                        1.9.4.post1\n",
      "Flask                        2.3.2\n",
      "Flask-SQLAlchemy             3.0.5\n",
      "frozenlist                   1.4.1\n",
      "geopandas                    0.13.2\n",
      "gitdb                        4.0.10\n",
      "GitPython                    3.1.31\n",
      "google-ai-generativelanguage 0.4.0\n",
      "google-api-core              2.15.0\n",
      "google-auth                  2.25.2\n",
      "google-generativeai          0.3.2\n",
      "googleapis-common-protos     1.62.0\n",
      "greenlet                     2.0.2\n",
      "grpcio                       1.60.0\n",
      "grpcio-status                1.60.0\n",
      "idna                         3.6\n",
      "importlib-metadata           6.4.1\n",
      "ipykernel                    6.25.1\n",
      "ipython                      8.14.0\n",
      "itsdangerous                 2.1.2\n",
      "jedi                         0.19.0\n",
      "Jinja2                       3.1.2\n",
      "joblib                       1.3.2\n",
      "jsonschema                   4.17.3\n",
      "jupyter_client               8.3.0\n",
      "jupyter_core                 5.3.1\n",
      "langchain                    0.0.284\n",
      "langsmith                    0.0.75\n",
      "markdown-it-py               2.2.0\n",
      "MarkupSafe                   2.1.3\n",
      "marshmallow                  3.20.1\n",
      "matplotlib                   3.7.1\n",
      "matplotlib-inline            0.1.6\n",
      "mdurl                        0.1.2\n",
      "multidict                    6.0.4\n",
      "mypy-extensions              1.0.0\n",
      "nest-asyncio                 1.5.7\n",
      "numexpr                      2.8.8\n",
      "numpy                        1.25.2\n",
      "packaging                    23.1\n",
      "pandas                       2.1.4\n",
      "parso                        0.8.3\n",
      "pickleshare                  0.7.5\n",
      "Pillow                       9.5.0\n",
      "pip                          23.1.2\n",
      "platformdirs                 4.1.0\n",
      "prompt-toolkit               3.0.39\n",
      "proto-plus                   1.23.0\n",
      "protobuf                     4.25.1\n",
      "psutil                       5.9.5\n",
      "pure-eval                    0.2.2\n",
      "pyarrow                      11.0.0\n",
      "pyasn1                       0.5.1\n",
      "pyasn1-modules               0.3.0\n",
      "pydantic                     2.5.3\n",
      "pydantic_core                2.14.6\n",
      "pydeck                       0.8.1b0\n",
      "Pygments                     2.16.1\n",
      "Pympler                      1.0.1\n",
      "pyrsistent                   0.20.0\n",
      "python-dateutil              2.8.2\n",
      "python-dotenv                1.0.0\n",
      "pytz                         2023.3\n",
      "pytz-deprecation-shim        0.1.0.post0\n",
      "pywin32                      306\n",
      "PyYAML                       6.0.1\n",
      "pyzmq                        25.1.1\n",
      "regex                        2023.12.25\n",
      "requests                     2.31.0\n",
      "rich                         13.3.4\n",
      "rsa                          4.9\n",
      "scikit-learn                 1.3.0\n",
      "scipy                        1.11.2\n",
      "setuptools                   68.2.2\n",
      "six                          1.16.0\n",
      "smmap                        5.0.1\n",
      "SQLAlchemy                   2.0.20\n",
      "stack-data                   0.6.2\n",
      "streamlit                    1.22.0\n",
      "tenacity                     8.2.3\n",
      "threadpoolctl                3.2.0\n",
      "tiktoken                     0.4.0\n",
      "toml                         0.10.2\n",
      "toolz                        0.12.0\n",
      "tornado                      6.3.3\n",
      "tqdm                         4.66.1\n",
      "traitlets                    5.9.0\n",
      "typing_extensions            4.7.1\n",
      "typing-inspect               0.9.0\n",
      "tzdata                       2023.4\n",
      "tzlocal                      4.3\n",
      "urllib3                      1.26.15\n",
      "validators                   0.20.0\n",
      "virtualenv                   20.24.3\n",
      "watchdog                     3.0.0\n",
      "wcwidth                      0.2.12\n",
      "Werkzeug                     2.3.7\n",
      "wheel                        0.41.2\n",
      "yarl                         1.9.4\n",
      "zipp                         3.15.0\n",
      "Note: you may need to restart the kernel to use updated packages.\n"
     ]
    },
    {
     "name": "stderr",
     "output_type": "stream",
     "text": [
      "\n",
      "[notice] A new release of pip is available: 23.1.2 -> 23.3.2\n",
      "[notice] To update, run: python.exe -m pip install --upgrade pip\n"
     ]
    }
   ],
   "source": [
    "pip list"
   ]
  },
  {
   "cell_type": "code",
   "execution_count": 16,
   "id": "6db08386",
   "metadata": {},
   "outputs": [],
   "source": [
    "import sys\n",
    "sys.path.append('d:\\\\GitHub\\\\Mini-Projects\\\\LLM\\\\config')\n",
    "\n",
    "from config import googleAPIKey\n",
    "import re\n",
    "\n",
    "with open('/GitHub/Mini-Projects/LLM/config/config.py', 'r') as databaseUrlFile:\n",
    "    googleAPIKey = databaseUrlFile.read()\n",
    "\n",
    "match = re.search(r'\"([^\"]*)\"', googleAPIKey)\n",
    "\n",
    "if match:\n",
    "    googleAPIKey = match.group(1)\n",
    "else:\n",
    "    print(\"No match found\")"
   ]
  },
  {
   "cell_type": "code",
   "execution_count": 20,
   "id": "dd8341bf",
   "metadata": {},
   "outputs": [],
   "source": [
    "from langchain.llms import GooglePalm\n",
    "\n",
    "# temperature - control creativity level\n",
    "llm = GooglePalm(google_api_key=googleAPIKey,temperature=0.7)"
   ]
  },
  {
   "cell_type": "code",
   "execution_count": 21,
   "id": "edfb34eb",
   "metadata": {},
   "outputs": [
    {
     "name": "stdout",
     "output_type": "stream",
     "text": [
      "**Samosas, oh samosas,**\n",
      "**You are the food of my dreams.**\n",
      "**Your crispy shell and savory filling**\n",
      "**Fill me with joy and glee.**\n"
     ]
    }
   ],
   "source": [
    "poem = llm(\"write a 4 line of my love for samosa\")\n",
    "print(poem)"
   ]
  },
  {
   "cell_type": "code",
   "execution_count": 24,
   "id": "4a9307b2",
   "metadata": {},
   "outputs": [
    {
     "name": "stdout",
     "output_type": "stream",
     "text": [
      "```\n",
      "Dear [Company Name],\n",
      "\n",
      "I am writing to request a refund for the [product name] that I purchased on [date]. I am not satisfied with the product because [reason].\n",
      "\n",
      "I have attached a copy of my receipt and a picture of the product. I have also included a description of the problem that I am having with the product.\n",
      "\n",
      "I would appreciate it if you would process my refund as soon as possible. I would like to be refunded the full amount that I paid for the product.\n",
      "\n",
      "Thank you for your time and consideration.\n",
      "\n",
      "Sincerely,\n",
      "[Your Name]\n",
      "```\n"
     ]
    }
   ],
   "source": [
    "essay = llm(\"write email requesting refund for electronic item\")\n",
    "print(essay)"
   ]
  },
  {
   "cell_type": "code",
   "execution_count": null,
   "id": "f07f78e9",
   "metadata": {},
   "outputs": [],
   "source": []
  }
 ],
 "metadata": {
  "kernelspec": {
   "display_name": "Python (llmLearn_env)",
   "language": "python",
   "name": "llmlearn_env"
  },
  "language_info": {
   "codemirror_mode": {
    "name": "ipython",
    "version": 3
   },
   "file_extension": ".py",
   "mimetype": "text/x-python",
   "name": "python",
   "nbconvert_exporter": "python",
   "pygments_lexer": "ipython3",
   "version": "3.10.0"
  }
 },
 "nbformat": 4,
 "nbformat_minor": 5
}
