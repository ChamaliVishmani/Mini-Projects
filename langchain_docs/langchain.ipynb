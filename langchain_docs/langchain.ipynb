{
 "cells": [
  {
   "cell_type": "code",
   "execution_count": null,
   "metadata": {},
   "outputs": [],
   "source": [
    "from langchain_community.llms import Ollama\n",
    "llm= Ollama(model=\"llama2\")"
   ]
  },
  {
   "cell_type": "code",
   "execution_count": 2,
   "metadata": {},
   "outputs": [],
   "source": [
    "import os \n",
    "from dotenv import load_dotenv\n",
    "\n",
    "load_dotenv()\n",
    "OPENAI_API_KEY = os.getenv(\"OPENAI_API_KEY\")"
   ]
  },
  {
   "cell_type": "code",
   "execution_count": 3,
   "metadata": {},
   "outputs": [],
   "source": [
    "from langchain_openai import ChatOpenAI\n",
    "llm = ChatOpenAI()"
   ]
  },
  {
   "cell_type": "code",
   "execution_count": 4,
   "metadata": {},
   "outputs": [
    {
     "data": {
      "text/plain": [
       "AIMessage(content='Langsmith can help with testing in the following ways:\\n\\n1. Automating testing processes: Langsmith can create automated tests for software applications, which can help in reducing manual testing efforts and ensuring more accurate and consistent results.\\n\\n2. Generating test data: Langsmith can generate test data that is relevant to the testing scenarios, which can help in testing the application under different conditions and edge cases.\\n\\n3. Performing regression testing: Langsmith can help in performing regression testing by re-running previously executed test cases to ensure that new changes in the software have not introduced any new bugs.\\n\\n4. Analyzing test results: Langsmith can analyze test results and provide insights into the performance and quality of the software application, helping in identifying areas that need improvement.\\n\\n5. Integrating with testing tools: Langsmith can integrate with popular testing tools like Selenium, JUnit, and TestNG, making it easier to run tests and manage test results. \\n\\nOverall, Langsmith can help in improving the efficiency and effectiveness of testing processes, leading to higher quality software products.')"
      ]
     },
     "execution_count": 4,
     "metadata": {},
     "output_type": "execute_result"
    }
   ],
   "source": [
    "llm.invoke(\"how can langsmith help with testing?\")"
   ]
  },
  {
   "cell_type": "code",
   "execution_count": 14,
   "metadata": {},
   "outputs": [],
   "source": [
    "from langchain_core.prompts import ChatPromptTemplate\n",
    "prompt = ChatPromptTemplate.from_messages([\n",
    "    (\"system\", \"You are world class technical documentation writer.\"),\n",
    "    (\"user\", \"{input}\")\n",
    "])"
   ]
  },
  {
   "cell_type": "code",
   "execution_count": 16,
   "metadata": {},
   "outputs": [],
   "source": [
    "chain = prompt | llm"
   ]
  },
  {
   "cell_type": "code",
   "execution_count": 17,
   "metadata": {},
   "outputs": [
    {
     "data": {
      "text/plain": [
       "AIMessage(content='Langsmith can help with testing in various ways:\\n\\n1. Test Automation: Langsmith can be used to automate testing processes, including running test scripts, generating test data, and analyzing test results. This can help streamline testing efforts and improve efficiency.\\n\\n2. Test Data Generation: Langsmith can be used to generate synthetic data for testing purposes. This can be especially useful for creating test data sets that cover a wide range of scenarios and edge cases.\\n\\n3. Test Case Generation: Langsmith can assist in generating test cases based on predefined criteria or requirements. This can help ensure comprehensive test coverage and reduce the manual effort required for creating test cases.\\n\\n4. Test Result Analysis: Langsmith can analyze test results and provide insights into the quality of the software being tested. This can help identify areas that need improvement and prioritize testing efforts.\\n\\n5. Integration Testing: Langsmith can be used to facilitate integration testing by simulating the behavior of external systems or components. This can help ensure that different parts of the software work together seamlessly.\\n\\nOverall, Langsmith can play a crucial role in enhancing the testing process by providing automation, data generation, test case generation, result analysis, and integration testing capabilities.')"
      ]
     },
     "execution_count": 17,
     "metadata": {},
     "output_type": "execute_result"
    }
   ],
   "source": [
    "chain.invoke({\"input\":\"how can langsmith help with testing?\"})"
   ]
  },
  {
   "cell_type": "code",
   "execution_count": 18,
   "metadata": {},
   "outputs": [],
   "source": [
    "from langchain_core.output_parsers import StrOutputParser\n",
    "\n",
    "output_parser = StrOutputParser()"
   ]
  },
  {
   "cell_type": "code",
   "execution_count": 19,
   "metadata": {},
   "outputs": [],
   "source": [
    "chain = prompt | llm | output_parser"
   ]
  },
  {
   "cell_type": "code",
   "execution_count": 20,
   "metadata": {},
   "outputs": [
    {
     "data": {
      "text/plain": [
       "'Langsmith can be a valuable tool for testing in various ways for technical writers:\\n\\n1. Automated testing: Langsmith can assist in creating and executing automated tests for documentation, ensuring that all features and functionalities are thoroughly checked.\\n\\n2. Consistency checking: Langsmith can help in ensuring consistency across the documentation, detecting any discrepancies or errors that may affect the user experience.\\n\\n3. Language support: Langsmith can facilitate testing for multi-language documentation, helping to identify any translation issues or language-specific errors.\\n\\n4. Accessibility testing: Langsmith can assist in testing the accessibility of documentation, ensuring that it meets the necessary standards and is usable by all users, including those with disabilities.\\n\\n5. Cross-platform testing: Langsmith can aid in testing documentation across different platforms and devices, ensuring a consistent user experience regardless of the device being used.\\n\\nOverall, Langsmith can streamline the testing process, improve the quality of documentation, and enhance the overall user experience.'"
      ]
     },
     "execution_count": 20,
     "metadata": {},
     "output_type": "execute_result"
    }
   ],
   "source": [
    "chain.invoke({\"input\":\"how can langsmith help with testing?\"})"
   ]
  },
  {
   "cell_type": "code",
   "execution_count": null,
   "metadata": {},
   "outputs": [],
   "source": []
  }
 ],
 "metadata": {
  "kernelspec": {
   "display_name": "Python 3",
   "language": "python",
   "name": "python3"
  },
  "language_info": {
   "codemirror_mode": {
    "name": "ipython",
    "version": 3
   },
   "file_extension": ".py",
   "mimetype": "text/x-python",
   "name": "python",
   "nbconvert_exporter": "python",
   "pygments_lexer": "ipython3",
   "version": "3.10.13"
  }
 },
 "nbformat": 4,
 "nbformat_minor": 2
}
